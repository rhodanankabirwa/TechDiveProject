{
 "cells": [
  {
   "cell_type": "code",
   "execution_count": 1,
   "id": "a21e4b4c",
   "metadata": {},
   "outputs": [],
   "source": [
    "import os\n",
    "import pandas as pd\n",
    "import matplotlib.pyplot as plt\n",
    "import seaborn as sns\n",
    "import re"
   ]
  },
  {
   "cell_type": "code",
   "execution_count": 2,
   "id": "415ef5eb",
   "metadata": {},
   "outputs": [
    {
     "data": {
      "text/html": [
       "<div>\n",
       "<style scoped>\n",
       "    .dataframe tbody tr th:only-of-type {\n",
       "        vertical-align: middle;\n",
       "    }\n",
       "\n",
       "    .dataframe tbody tr th {\n",
       "        vertical-align: top;\n",
       "    }\n",
       "\n",
       "    .dataframe thead th {\n",
       "        text-align: right;\n",
       "    }\n",
       "</style>\n",
       "<table border=\"1\" class=\"dataframe\">\n",
       "  <thead>\n",
       "    <tr style=\"text-align: right;\">\n",
       "      <th></th>\n",
       "      <th>index</th>\n",
       "      <th>carat</th>\n",
       "      <th>cut</th>\n",
       "      <th>color</th>\n",
       "      <th>clarity</th>\n",
       "      <th>depth</th>\n",
       "      <th>table</th>\n",
       "      <th>cost (dollars)</th>\n",
       "      <th>length (mm)</th>\n",
       "      <th>width (mm)</th>\n",
       "      <th>height (mm)</th>\n",
       "      <th>year</th>\n",
       "    </tr>\n",
       "  </thead>\n",
       "  <tbody>\n",
       "    <tr>\n",
       "      <th>0</th>\n",
       "      <td>0</td>\n",
       "      <td>0.23</td>\n",
       "      <td>Ideal</td>\n",
       "      <td>E</td>\n",
       "      <td>SI2</td>\n",
       "      <td>61.5</td>\n",
       "      <td>55.0</td>\n",
       "      <td>326</td>\n",
       "      <td>3.95</td>\n",
       "      <td>3.98</td>\n",
       "      <td>2.43</td>\n",
       "      <td>2012</td>\n",
       "    </tr>\n",
       "    <tr>\n",
       "      <th>1</th>\n",
       "      <td>1</td>\n",
       "      <td>0.23</td>\n",
       "      <td>Good</td>\n",
       "      <td>E</td>\n",
       "      <td>VS1</td>\n",
       "      <td>56.9</td>\n",
       "      <td>65.0</td>\n",
       "      <td>327</td>\n",
       "      <td>4.05</td>\n",
       "      <td>4.07</td>\n",
       "      <td>2.31</td>\n",
       "      <td>2012</td>\n",
       "    </tr>\n",
       "    <tr>\n",
       "      <th>2</th>\n",
       "      <td>2</td>\n",
       "      <td>0.29</td>\n",
       "      <td>Premium</td>\n",
       "      <td>I</td>\n",
       "      <td>VS2</td>\n",
       "      <td>62.4</td>\n",
       "      <td>58.0</td>\n",
       "      <td>334</td>\n",
       "      <td>4.20</td>\n",
       "      <td>4.23</td>\n",
       "      <td>2.63</td>\n",
       "      <td>2012</td>\n",
       "    </tr>\n",
       "    <tr>\n",
       "      <th>3</th>\n",
       "      <td>3</td>\n",
       "      <td>0.31</td>\n",
       "      <td>Good</td>\n",
       "      <td>J</td>\n",
       "      <td>SI2</td>\n",
       "      <td>63.3</td>\n",
       "      <td>58.0</td>\n",
       "      <td>335</td>\n",
       "      <td>4.34</td>\n",
       "      <td>4.35</td>\n",
       "      <td>2.75</td>\n",
       "      <td>2012</td>\n",
       "    </tr>\n",
       "    <tr>\n",
       "      <th>4</th>\n",
       "      <td>4</td>\n",
       "      <td>0.24</td>\n",
       "      <td>Very Good</td>\n",
       "      <td>J</td>\n",
       "      <td>VVS2</td>\n",
       "      <td>62.8</td>\n",
       "      <td>57.0</td>\n",
       "      <td>336</td>\n",
       "      <td>3.94</td>\n",
       "      <td>3.96</td>\n",
       "      <td>2.48</td>\n",
       "      <td>2012</td>\n",
       "    </tr>\n",
       "    <tr>\n",
       "      <th>...</th>\n",
       "      <td>...</td>\n",
       "      <td>...</td>\n",
       "      <td>...</td>\n",
       "      <td>...</td>\n",
       "      <td>...</td>\n",
       "      <td>...</td>\n",
       "      <td>...</td>\n",
       "      <td>...</td>\n",
       "      <td>...</td>\n",
       "      <td>...</td>\n",
       "      <td>...</td>\n",
       "      <td>...</td>\n",
       "    </tr>\n",
       "    <tr>\n",
       "      <th>407275</th>\n",
       "      <td>33935</td>\n",
       "      <td>0.72</td>\n",
       "      <td>Ideal</td>\n",
       "      <td>D</td>\n",
       "      <td>SI1</td>\n",
       "      <td>60.8</td>\n",
       "      <td>57.0</td>\n",
       "      <td>3394</td>\n",
       "      <td>5.75</td>\n",
       "      <td>5.76</td>\n",
       "      <td>3.50</td>\n",
       "      <td>2023</td>\n",
       "    </tr>\n",
       "    <tr>\n",
       "      <th>407276</th>\n",
       "      <td>33936</td>\n",
       "      <td>0.72</td>\n",
       "      <td>Good</td>\n",
       "      <td>D</td>\n",
       "      <td>SI1</td>\n",
       "      <td>63.1</td>\n",
       "      <td>55.0</td>\n",
       "      <td>3256</td>\n",
       "      <td>5.69</td>\n",
       "      <td>5.75</td>\n",
       "      <td>3.61</td>\n",
       "      <td>2023</td>\n",
       "    </tr>\n",
       "    <tr>\n",
       "      <th>407277</th>\n",
       "      <td>33937</td>\n",
       "      <td>0.70</td>\n",
       "      <td>Very Good</td>\n",
       "      <td>D</td>\n",
       "      <td>SI1</td>\n",
       "      <td>62.8</td>\n",
       "      <td>60.0</td>\n",
       "      <td>3569</td>\n",
       "      <td>5.66</td>\n",
       "      <td>5.68</td>\n",
       "      <td>3.56</td>\n",
       "      <td>2023</td>\n",
       "    </tr>\n",
       "    <tr>\n",
       "      <th>407278</th>\n",
       "      <td>33938</td>\n",
       "      <td>0.86</td>\n",
       "      <td>Premium</td>\n",
       "      <td>H</td>\n",
       "      <td>SI2</td>\n",
       "      <td>61.0</td>\n",
       "      <td>58.0</td>\n",
       "      <td>4022</td>\n",
       "      <td>6.15</td>\n",
       "      <td>6.12</td>\n",
       "      <td>3.74</td>\n",
       "      <td>2023</td>\n",
       "    </tr>\n",
       "    <tr>\n",
       "      <th>407279</th>\n",
       "      <td>33939</td>\n",
       "      <td>0.75</td>\n",
       "      <td>Ideal</td>\n",
       "      <td>D</td>\n",
       "      <td>SI2</td>\n",
       "      <td>62.2</td>\n",
       "      <td>55.0</td>\n",
       "      <td>3465</td>\n",
       "      <td>5.83</td>\n",
       "      <td>5.87</td>\n",
       "      <td>3.64</td>\n",
       "      <td>2023</td>\n",
       "    </tr>\n",
       "  </tbody>\n",
       "</table>\n",
       "<p>407280 rows × 12 columns</p>\n",
       "</div>"
      ],
      "text/plain": [
       "        index  carat        cut color clarity  depth  table  cost (dollars)   \n",
       "0           0   0.23      Ideal     E     SI2   61.5   55.0             326  \\\n",
       "1           1   0.23       Good     E     VS1   56.9   65.0             327   \n",
       "2           2   0.29    Premium     I     VS2   62.4   58.0             334   \n",
       "3           3   0.31       Good     J     SI2   63.3   58.0             335   \n",
       "4           4   0.24  Very Good     J    VVS2   62.8   57.0             336   \n",
       "...       ...    ...        ...   ...     ...    ...    ...             ...   \n",
       "407275  33935   0.72      Ideal     D     SI1   60.8   57.0            3394   \n",
       "407276  33936   0.72       Good     D     SI1   63.1   55.0            3256   \n",
       "407277  33937   0.70  Very Good     D     SI1   62.8   60.0            3569   \n",
       "407278  33938   0.86    Premium     H     SI2   61.0   58.0            4022   \n",
       "407279  33939   0.75      Ideal     D     SI2   62.2   55.0            3465   \n",
       "\n",
       "        length (mm)  width (mm)  height (mm)  year  \n",
       "0              3.95        3.98         2.43  2012  \n",
       "1              4.05        4.07         2.31  2012  \n",
       "2              4.20        4.23         2.63  2012  \n",
       "3              4.34        4.35         2.75  2012  \n",
       "4              3.94        3.96         2.48  2012  \n",
       "...             ...         ...          ...   ...  \n",
       "407275         5.75        5.76         3.50  2023  \n",
       "407276         5.69        5.75         3.61  2023  \n",
       "407277         5.66        5.68         3.56  2023  \n",
       "407278         6.15        6.12         3.74  2023  \n",
       "407279         5.83        5.87         3.64  2023  \n",
       "\n",
       "[407280 rows x 12 columns]"
      ]
     },
     "execution_count": 2,
     "metadata": {},
     "output_type": "execute_result"
    }
   ],
   "source": [
    "#Set the path where the file is located\n",
    "path = \"D:/WINTER 2024/HACK DIVERISTY/FELLOW_2024/wholesale_diamonds_2012_2023.csv\"\n",
    "df = pd.read_csv(path)\n",
    "df"
   ]
  },
  {
   "cell_type": "code",
   "execution_count": 3,
   "id": "7a379084",
   "metadata": {},
   "outputs": [
    {
     "data": {
      "text/html": [
       "<div>\n",
       "<style scoped>\n",
       "    .dataframe tbody tr th:only-of-type {\n",
       "        vertical-align: middle;\n",
       "    }\n",
       "\n",
       "    .dataframe tbody tr th {\n",
       "        vertical-align: top;\n",
       "    }\n",
       "\n",
       "    .dataframe thead th {\n",
       "        text-align: right;\n",
       "    }\n",
       "</style>\n",
       "<table border=\"1\" class=\"dataframe\">\n",
       "  <thead>\n",
       "    <tr style=\"text-align: right;\">\n",
       "      <th></th>\n",
       "      <th>index</th>\n",
       "      <th>carat</th>\n",
       "      <th>cut</th>\n",
       "      <th>color</th>\n",
       "      <th>clarity</th>\n",
       "      <th>depth</th>\n",
       "      <th>table</th>\n",
       "      <th>cost_dollars</th>\n",
       "      <th>length_mm</th>\n",
       "      <th>width_mm</th>\n",
       "      <th>height_mm</th>\n",
       "      <th>year</th>\n",
       "    </tr>\n",
       "  </thead>\n",
       "  <tbody>\n",
       "    <tr>\n",
       "      <th>0</th>\n",
       "      <td>0</td>\n",
       "      <td>0.23</td>\n",
       "      <td>Ideal</td>\n",
       "      <td>E</td>\n",
       "      <td>SI2</td>\n",
       "      <td>61.5</td>\n",
       "      <td>55.0</td>\n",
       "      <td>326</td>\n",
       "      <td>3.95</td>\n",
       "      <td>3.98</td>\n",
       "      <td>2.43</td>\n",
       "      <td>2012</td>\n",
       "    </tr>\n",
       "    <tr>\n",
       "      <th>1</th>\n",
       "      <td>1</td>\n",
       "      <td>0.23</td>\n",
       "      <td>Good</td>\n",
       "      <td>E</td>\n",
       "      <td>VS1</td>\n",
       "      <td>56.9</td>\n",
       "      <td>65.0</td>\n",
       "      <td>327</td>\n",
       "      <td>4.05</td>\n",
       "      <td>4.07</td>\n",
       "      <td>2.31</td>\n",
       "      <td>2012</td>\n",
       "    </tr>\n",
       "    <tr>\n",
       "      <th>2</th>\n",
       "      <td>2</td>\n",
       "      <td>0.29</td>\n",
       "      <td>Premium</td>\n",
       "      <td>I</td>\n",
       "      <td>VS2</td>\n",
       "      <td>62.4</td>\n",
       "      <td>58.0</td>\n",
       "      <td>334</td>\n",
       "      <td>4.20</td>\n",
       "      <td>4.23</td>\n",
       "      <td>2.63</td>\n",
       "      <td>2012</td>\n",
       "    </tr>\n",
       "    <tr>\n",
       "      <th>3</th>\n",
       "      <td>3</td>\n",
       "      <td>0.31</td>\n",
       "      <td>Good</td>\n",
       "      <td>J</td>\n",
       "      <td>SI2</td>\n",
       "      <td>63.3</td>\n",
       "      <td>58.0</td>\n",
       "      <td>335</td>\n",
       "      <td>4.34</td>\n",
       "      <td>4.35</td>\n",
       "      <td>2.75</td>\n",
       "      <td>2012</td>\n",
       "    </tr>\n",
       "    <tr>\n",
       "      <th>4</th>\n",
       "      <td>4</td>\n",
       "      <td>0.24</td>\n",
       "      <td>Very Good</td>\n",
       "      <td>J</td>\n",
       "      <td>VVS2</td>\n",
       "      <td>62.8</td>\n",
       "      <td>57.0</td>\n",
       "      <td>336</td>\n",
       "      <td>3.94</td>\n",
       "      <td>3.96</td>\n",
       "      <td>2.48</td>\n",
       "      <td>2012</td>\n",
       "    </tr>\n",
       "    <tr>\n",
       "      <th>...</th>\n",
       "      <td>...</td>\n",
       "      <td>...</td>\n",
       "      <td>...</td>\n",
       "      <td>...</td>\n",
       "      <td>...</td>\n",
       "      <td>...</td>\n",
       "      <td>...</td>\n",
       "      <td>...</td>\n",
       "      <td>...</td>\n",
       "      <td>...</td>\n",
       "      <td>...</td>\n",
       "      <td>...</td>\n",
       "    </tr>\n",
       "    <tr>\n",
       "      <th>407275</th>\n",
       "      <td>33935</td>\n",
       "      <td>0.72</td>\n",
       "      <td>Ideal</td>\n",
       "      <td>D</td>\n",
       "      <td>SI1</td>\n",
       "      <td>60.8</td>\n",
       "      <td>57.0</td>\n",
       "      <td>3394</td>\n",
       "      <td>5.75</td>\n",
       "      <td>5.76</td>\n",
       "      <td>3.50</td>\n",
       "      <td>2023</td>\n",
       "    </tr>\n",
       "    <tr>\n",
       "      <th>407276</th>\n",
       "      <td>33936</td>\n",
       "      <td>0.72</td>\n",
       "      <td>Good</td>\n",
       "      <td>D</td>\n",
       "      <td>SI1</td>\n",
       "      <td>63.1</td>\n",
       "      <td>55.0</td>\n",
       "      <td>3256</td>\n",
       "      <td>5.69</td>\n",
       "      <td>5.75</td>\n",
       "      <td>3.61</td>\n",
       "      <td>2023</td>\n",
       "    </tr>\n",
       "    <tr>\n",
       "      <th>407277</th>\n",
       "      <td>33937</td>\n",
       "      <td>0.70</td>\n",
       "      <td>Very Good</td>\n",
       "      <td>D</td>\n",
       "      <td>SI1</td>\n",
       "      <td>62.8</td>\n",
       "      <td>60.0</td>\n",
       "      <td>3569</td>\n",
       "      <td>5.66</td>\n",
       "      <td>5.68</td>\n",
       "      <td>3.56</td>\n",
       "      <td>2023</td>\n",
       "    </tr>\n",
       "    <tr>\n",
       "      <th>407278</th>\n",
       "      <td>33938</td>\n",
       "      <td>0.86</td>\n",
       "      <td>Premium</td>\n",
       "      <td>H</td>\n",
       "      <td>SI2</td>\n",
       "      <td>61.0</td>\n",
       "      <td>58.0</td>\n",
       "      <td>4022</td>\n",
       "      <td>6.15</td>\n",
       "      <td>6.12</td>\n",
       "      <td>3.74</td>\n",
       "      <td>2023</td>\n",
       "    </tr>\n",
       "    <tr>\n",
       "      <th>407279</th>\n",
       "      <td>33939</td>\n",
       "      <td>0.75</td>\n",
       "      <td>Ideal</td>\n",
       "      <td>D</td>\n",
       "      <td>SI2</td>\n",
       "      <td>62.2</td>\n",
       "      <td>55.0</td>\n",
       "      <td>3465</td>\n",
       "      <td>5.83</td>\n",
       "      <td>5.87</td>\n",
       "      <td>3.64</td>\n",
       "      <td>2023</td>\n",
       "    </tr>\n",
       "  </tbody>\n",
       "</table>\n",
       "<p>407280 rows × 12 columns</p>\n",
       "</div>"
      ],
      "text/plain": [
       "        index  carat        cut color clarity  depth  table  cost_dollars   \n",
       "0           0   0.23      Ideal     E     SI2   61.5   55.0           326  \\\n",
       "1           1   0.23       Good     E     VS1   56.9   65.0           327   \n",
       "2           2   0.29    Premium     I     VS2   62.4   58.0           334   \n",
       "3           3   0.31       Good     J     SI2   63.3   58.0           335   \n",
       "4           4   0.24  Very Good     J    VVS2   62.8   57.0           336   \n",
       "...       ...    ...        ...   ...     ...    ...    ...           ...   \n",
       "407275  33935   0.72      Ideal     D     SI1   60.8   57.0          3394   \n",
       "407276  33936   0.72       Good     D     SI1   63.1   55.0          3256   \n",
       "407277  33937   0.70  Very Good     D     SI1   62.8   60.0          3569   \n",
       "407278  33938   0.86    Premium     H     SI2   61.0   58.0          4022   \n",
       "407279  33939   0.75      Ideal     D     SI2   62.2   55.0          3465   \n",
       "\n",
       "        length_mm  width_mm  height_mm  year  \n",
       "0            3.95      3.98       2.43  2012  \n",
       "1            4.05      4.07       2.31  2012  \n",
       "2            4.20      4.23       2.63  2012  \n",
       "3            4.34      4.35       2.75  2012  \n",
       "4            3.94      3.96       2.48  2012  \n",
       "...           ...       ...        ...   ...  \n",
       "407275       5.75      5.76       3.50  2023  \n",
       "407276       5.69      5.75       3.61  2023  \n",
       "407277       5.66      5.68       3.56  2023  \n",
       "407278       6.15      6.12       3.74  2023  \n",
       "407279       5.83      5.87       3.64  2023  \n",
       "\n",
       "[407280 rows x 12 columns]"
      ]
     },
     "execution_count": 3,
     "metadata": {},
     "output_type": "execute_result"
    }
   ],
   "source": [
    "#Rename column names to using the conventional python naming style\n",
    "df=df.rename(columns={'cost (dollars)': 'cost_dollars',\n",
    "                      'length (mm)': 'length_mm',\n",
    "                      'width (mm)': 'width_mm',\n",
    "                      'height (mm)': 'height_mm'})\n",
    "df"
   ]
  },
  {
   "cell_type": "code",
   "execution_count": 4,
   "id": "f3b87a7c",
   "metadata": {},
   "outputs": [
    {
     "data": {
      "text/html": [
       "<div>\n",
       "<style scoped>\n",
       "    .dataframe tbody tr th:only-of-type {\n",
       "        vertical-align: middle;\n",
       "    }\n",
       "\n",
       "    .dataframe tbody tr th {\n",
       "        vertical-align: top;\n",
       "    }\n",
       "\n",
       "    .dataframe thead th {\n",
       "        text-align: right;\n",
       "    }\n",
       "</style>\n",
       "<table border=\"1\" class=\"dataframe\">\n",
       "  <thead>\n",
       "    <tr style=\"text-align: right;\">\n",
       "      <th></th>\n",
       "      <th>index</th>\n",
       "      <th>carat</th>\n",
       "      <th>depth</th>\n",
       "      <th>table</th>\n",
       "      <th>cost_dollars</th>\n",
       "      <th>length_mm</th>\n",
       "      <th>width_mm</th>\n",
       "      <th>height_mm</th>\n",
       "      <th>year</th>\n",
       "    </tr>\n",
       "  </thead>\n",
       "  <tbody>\n",
       "    <tr>\n",
       "      <th>count</th>\n",
       "      <td>407280.000000</td>\n",
       "      <td>405232.000000</td>\n",
       "      <td>407280.000000</td>\n",
       "      <td>407280.000000</td>\n",
       "      <td>407280.000000</td>\n",
       "      <td>407280.000000</td>\n",
       "      <td>407280.000000</td>\n",
       "      <td>407280.000000</td>\n",
       "      <td>407280.000000</td>\n",
       "    </tr>\n",
       "    <tr>\n",
       "      <th>mean</th>\n",
       "      <td>16969.500000</td>\n",
       "      <td>0.797742</td>\n",
       "      <td>61.747793</td>\n",
       "      <td>57.457113</td>\n",
       "      <td>4372.968506</td>\n",
       "      <td>5.730165</td>\n",
       "      <td>5.732369</td>\n",
       "      <td>3.538519</td>\n",
       "      <td>2017.500000</td>\n",
       "    </tr>\n",
       "    <tr>\n",
       "      <th>std</th>\n",
       "      <td>9797.646092</td>\n",
       "      <td>0.474774</td>\n",
       "      <td>1.434209</td>\n",
       "      <td>2.239837</td>\n",
       "      <td>4503.620949</td>\n",
       "      <td>1.122960</td>\n",
       "      <td>1.114266</td>\n",
       "      <td>0.712168</td>\n",
       "      <td>3.452057</td>\n",
       "    </tr>\n",
       "    <tr>\n",
       "      <th>min</th>\n",
       "      <td>0.000000</td>\n",
       "      <td>0.200000</td>\n",
       "      <td>43.000000</td>\n",
       "      <td>43.000000</td>\n",
       "      <td>-998.000000</td>\n",
       "      <td>0.000000</td>\n",
       "      <td>0.000000</td>\n",
       "      <td>0.000000</td>\n",
       "      <td>2012.000000</td>\n",
       "    </tr>\n",
       "    <tr>\n",
       "      <th>25%</th>\n",
       "      <td>8484.750000</td>\n",
       "      <td>0.400000</td>\n",
       "      <td>61.000000</td>\n",
       "      <td>56.000000</td>\n",
       "      <td>1043.000000</td>\n",
       "      <td>4.710000</td>\n",
       "      <td>4.720000</td>\n",
       "      <td>2.910000</td>\n",
       "      <td>2014.750000</td>\n",
       "    </tr>\n",
       "    <tr>\n",
       "      <th>50%</th>\n",
       "      <td>16969.500000</td>\n",
       "      <td>0.700000</td>\n",
       "      <td>61.800000</td>\n",
       "      <td>57.000000</td>\n",
       "      <td>2655.000000</td>\n",
       "      <td>5.690000</td>\n",
       "      <td>5.710000</td>\n",
       "      <td>3.520000</td>\n",
       "      <td>2017.500000</td>\n",
       "    </tr>\n",
       "    <tr>\n",
       "      <th>75%</th>\n",
       "      <td>25454.250000</td>\n",
       "      <td>1.040000</td>\n",
       "      <td>62.500000</td>\n",
       "      <td>59.000000</td>\n",
       "      <td>5960.000000</td>\n",
       "      <td>6.530000</td>\n",
       "      <td>6.530000</td>\n",
       "      <td>4.030000</td>\n",
       "      <td>2020.250000</td>\n",
       "    </tr>\n",
       "    <tr>\n",
       "      <th>max</th>\n",
       "      <td>33939.000000</td>\n",
       "      <td>4.130000</td>\n",
       "      <td>79.000000</td>\n",
       "      <td>95.000000</td>\n",
       "      <td>26930.000000</td>\n",
       "      <td>10.140000</td>\n",
       "      <td>10.100000</td>\n",
       "      <td>31.800000</td>\n",
       "      <td>2023.000000</td>\n",
       "    </tr>\n",
       "  </tbody>\n",
       "</table>\n",
       "</div>"
      ],
      "text/plain": [
       "               index          carat          depth          table   \n",
       "count  407280.000000  405232.000000  407280.000000  407280.000000  \\\n",
       "mean    16969.500000       0.797742      61.747793      57.457113   \n",
       "std      9797.646092       0.474774       1.434209       2.239837   \n",
       "min         0.000000       0.200000      43.000000      43.000000   \n",
       "25%      8484.750000       0.400000      61.000000      56.000000   \n",
       "50%     16969.500000       0.700000      61.800000      57.000000   \n",
       "75%     25454.250000       1.040000      62.500000      59.000000   \n",
       "max     33939.000000       4.130000      79.000000      95.000000   \n",
       "\n",
       "        cost_dollars      length_mm       width_mm      height_mm   \n",
       "count  407280.000000  407280.000000  407280.000000  407280.000000  \\\n",
       "mean     4372.968506       5.730165       5.732369       3.538519   \n",
       "std      4503.620949       1.122960       1.114266       0.712168   \n",
       "min      -998.000000       0.000000       0.000000       0.000000   \n",
       "25%      1043.000000       4.710000       4.720000       2.910000   \n",
       "50%      2655.000000       5.690000       5.710000       3.520000   \n",
       "75%      5960.000000       6.530000       6.530000       4.030000   \n",
       "max     26930.000000      10.140000      10.100000      31.800000   \n",
       "\n",
       "                year  \n",
       "count  407280.000000  \n",
       "mean     2017.500000  \n",
       "std         3.452057  \n",
       "min      2012.000000  \n",
       "25%      2014.750000  \n",
       "50%      2017.500000  \n",
       "75%      2020.250000  \n",
       "max      2023.000000  "
      ]
     },
     "execution_count": 4,
     "metadata": {},
     "output_type": "execute_result"
    }
   ],
   "source": [
    "#display summary statistics\n",
    "df.describe()"
   ]
  },
  {
   "cell_type": "code",
   "execution_count": 5,
   "id": "d4513d72",
   "metadata": {},
   "outputs": [
    {
     "data": {
      "text/html": [
       "<div>\n",
       "<style scoped>\n",
       "    .dataframe tbody tr th:only-of-type {\n",
       "        vertical-align: middle;\n",
       "    }\n",
       "\n",
       "    .dataframe tbody tr th {\n",
       "        vertical-align: top;\n",
       "    }\n",
       "\n",
       "    .dataframe thead th {\n",
       "        text-align: right;\n",
       "    }\n",
       "</style>\n",
       "<table border=\"1\" class=\"dataframe\">\n",
       "  <thead>\n",
       "    <tr style=\"text-align: right;\">\n",
       "      <th></th>\n",
       "      <th>cut</th>\n",
       "      <th>color</th>\n",
       "      <th>clarity</th>\n",
       "    </tr>\n",
       "  </thead>\n",
       "  <tbody>\n",
       "    <tr>\n",
       "      <th>count</th>\n",
       "      <td>407280</td>\n",
       "      <td>407280</td>\n",
       "      <td>407280</td>\n",
       "    </tr>\n",
       "    <tr>\n",
       "      <th>unique</th>\n",
       "      <td>5</td>\n",
       "      <td>7</td>\n",
       "      <td>8</td>\n",
       "    </tr>\n",
       "    <tr>\n",
       "      <th>top</th>\n",
       "      <td>Ideal</td>\n",
       "      <td>G</td>\n",
       "      <td>SI1</td>\n",
       "    </tr>\n",
       "    <tr>\n",
       "      <th>freq</th>\n",
       "      <td>162876</td>\n",
       "      <td>86064</td>\n",
       "      <td>98844</td>\n",
       "    </tr>\n",
       "  </tbody>\n",
       "</table>\n",
       "</div>"
      ],
      "text/plain": [
       "           cut   color clarity\n",
       "count   407280  407280  407280\n",
       "unique       5       7       8\n",
       "top      Ideal       G     SI1\n",
       "freq    162876   86064   98844"
      ]
     },
     "execution_count": 5,
     "metadata": {},
     "output_type": "execute_result"
    }
   ],
   "source": [
    "#Display summary statistics\n",
    "df.describe(include=['object','category'])"
   ]
  },
  {
   "cell_type": "code",
   "execution_count": null,
   "id": "6db481c0",
   "metadata": {},
   "outputs": [],
   "source": [
    "# check column data type\n",
    "DataTypeDict = dict(df.dtypes)\n",
    "DataTypeDict\n",
    "df.dtypes #type of data\n",
    "df.dtypes.value_counts()#count of each datatype"
   ]
  },
  {
   "cell_type": "code",
   "execution_count": 6,
   "id": "1bc2ed10",
   "metadata": {},
   "outputs": [
    {
     "name": "stdout",
     "output_type": "stream",
     "text": [
      "\n",
      "DataFrame with Missing Values:\n",
      "        index  carat    cut  color  clarity  depth  table  cost_dollars   \n",
      "0       False  False  False  False    False  False  False         False  \\\n",
      "1       False  False  False  False    False  False  False         False   \n",
      "2       False  False  False  False    False  False  False         False   \n",
      "3       False  False  False  False    False  False  False         False   \n",
      "4       False  False  False  False    False  False  False         False   \n",
      "...       ...    ...    ...    ...      ...    ...    ...           ...   \n",
      "407275  False  False  False  False    False  False  False         False   \n",
      "407276  False  False  False  False    False  False  False         False   \n",
      "407277  False  False  False  False    False  False  False         False   \n",
      "407278  False  False  False  False    False  False  False         False   \n",
      "407279  False  False  False  False    False  False  False         False   \n",
      "\n",
      "        length_mm  width_mm  height_mm   year  \n",
      "0           False     False      False  False  \n",
      "1           False     False      False  False  \n",
      "2           False     False      False  False  \n",
      "3           False     False      False  False  \n",
      "4           False     False      False  False  \n",
      "...           ...       ...        ...    ...  \n",
      "407275      False     False      False  False  \n",
      "407276      False     False      False  False  \n",
      "407277      False     False      False  False  \n",
      "407278      False     False      False  False  \n",
      "407279      False     False      False  False  \n",
      "\n",
      "[407280 rows x 12 columns]\n"
     ]
    }
   ],
   "source": [
    "# Check for missing values in the DataFrame\n",
    "missing_values = df.isnull()\n",
    "# Display the DataFrame with True for missing values and False for non-missing values\n",
    "print(\"\\nDataFrame with Missing Values:\")\n",
    "print(missing_values)"
   ]
  },
  {
   "cell_type": "code",
   "execution_count": 7,
   "id": "4f000a22",
   "metadata": {},
   "outputs": [
    {
     "name": "stdout",
     "output_type": "stream",
     "text": [
      "\n",
      "Count of Missing Values in Each Column:\n",
      "index              0\n",
      "carat           2048\n",
      "cut                0\n",
      "color              0\n",
      "clarity            0\n",
      "depth              0\n",
      "table              0\n",
      "cost_dollars       0\n",
      "length_mm          0\n",
      "width_mm           0\n",
      "height_mm          0\n",
      "year               0\n",
      "dtype: int64\n"
     ]
    }
   ],
   "source": [
    "# Display the count of missing values in each column\n",
    "print(\"\\nCount of Missing Values in Each Column:\")\n",
    "print(df.isnull().sum())"
   ]
  },
  {
   "cell_type": "code",
   "execution_count": 8,
   "id": "f4505234",
   "metadata": {},
   "outputs": [
    {
     "name": "stdout",
     "output_type": "stream",
     "text": [
      "Duplicate Rows except first occurrence:\n",
      "Empty DataFrame\n",
      "Columns: [index, carat, cut, color, clarity, depth, table, cost_dollars, length_mm, width_mm, height_mm, year]\n",
      "Index: []\n"
     ]
    }
   ],
   "source": [
    "duplicates = df[df.duplicated()]\n",
    "\n",
    "# Display duplicate rows\n",
    "print(\"Duplicate Rows except first occurrence:\")\n",
    "print(duplicates)\n"
   ]
  },
  {
   "cell_type": "code",
   "execution_count": 37,
   "id": "020e8255",
   "metadata": {},
   "outputs": [
    {
     "name": "stdout",
     "output_type": "stream",
     "text": [
      "Duplicate Rows based on specific columns:\n",
      "Empty DataFrame\n",
      "Columns: [index, carat, cut, color, clarity, depth, table, cost_dollars, length_mm, width_mm, height_mm, year]\n",
      "Index: []\n"
     ]
    }
   ],
   "source": [
    "# Check for duplicates based on specific columns\n",
    "duplicates_subset = df[df.duplicated(subset=['index', 'carat', 'cut', 'color', 'clarity', 'depth', 'table', 'cost_dollars', 'length_mm', 'width_mm', 'height_mm', 'year'])]\n",
    "\n",
    "# Display duplicate rows based on specific columns\n",
    "print(\"Duplicate Rows based on specific columns:\")\n",
    "print(duplicates_subset)\n"
   ]
  },
  {
   "cell_type": "code",
   "execution_count": null,
   "id": "8fada92b",
   "metadata": {},
   "outputs": [],
   "source": []
  },
  {
   "cell_type": "code",
   "execution_count": 23,
   "id": "0206981b",
   "metadata": {},
   "outputs": [
    {
     "name": "stdout",
     "output_type": "stream",
     "text": [
      "[ 3.98  4.07  4.23  4.35  3.96  4.05  4.28  3.9   3.84  4.37  3.75  4.26\n",
      "  4.27  3.92  4.43  4.47  4.01  3.94  3.97  3.99  4.03  4.06  4.31  4.16\n",
      "  4.51  4.55  4.42  4.38  3.95  3.88  4.33  4.29  4.32  4.84  4.    4.24\n",
      "  4.25  4.22  4.04  4.12  4.67  5.72  6.33  5.73  5.85  5.95  5.78  5.96\n",
      "  5.79  5.8   6.    5.82  5.74  5.94  5.76  5.69  5.83  5.61  5.53  5.59\n",
      "  5.58  6.09  5.99  5.86  5.68  5.77  5.56  5.81  5.87  5.65  5.75  5.89\n",
      "  5.92  6.03  5.44  5.37  6.9   5.88  5.84  5.26  5.7   5.9   5.64  5.51\n",
      "  5.22  5.93  6.36  5.15  6.1   6.21  6.22  6.45  6.01  5.41  6.05  5.66\n",
      "  5.91  6.13  6.55  5.35  6.02  5.46  6.23  6.41  6.34  5.71  5.67  6.19\n",
      "  5.43  6.07  6.06  4.34  4.2   4.5   4.57  4.52  4.53  4.58  5.    5.11\n",
      "  5.27  6.04  6.53  6.65  5.54  5.52  5.63  6.39  6.12  5.21  5.4   5.98\n",
      "  6.83  5.6   6.37  6.31  5.38  6.18  5.97  6.14  5.49  5.57  5.62  6.26\n",
      "  6.67  6.75  6.29  6.74  4.08  4.59  4.41  4.4   4.39  5.48  6.88  6.11\n",
      "  5.3   6.48  5.47  5.13  6.49  6.25  6.43  6.27  5.12  5.24  6.35  6.47\n",
      "  6.16  5.45  4.7   4.46  4.02  4.3   4.36  6.24  5.18  5.08  6.79  6.2\n",
      "  6.15  6.92  6.08  6.5   5.42  5.5   5.55  7.09  4.45  6.42  6.28  6.54\n",
      "  6.7   6.59  6.69  4.69  4.44  6.71  6.4   6.32  6.38  5.39  6.3   6.17\n",
      "  5.31  5.25  6.52  6.95  6.46  6.56  6.6   6.51  6.81  6.73  5.17  6.85\n",
      "  4.65  4.11  4.49  4.09  4.19  4.61  6.61  6.64  6.91  4.15  4.21  4.68\n",
      "  6.86  5.23  4.96  4.64  4.73  4.6   4.62  4.56  7.28  6.44  5.28  5.34\n",
      "  6.63  7.17  7.13  6.77  6.58  4.1   4.63  7.35  6.68  6.82  6.87  6.66\n",
      "  6.62  6.57  6.78  7.05  4.9   6.89  7.01  7.1   6.72  7.    4.78  7.19\n",
      "  6.93  5.29  4.54  7.34  6.76  7.18  6.8   4.14  7.12  7.04  7.22  6.94\n",
      "  7.16  4.18  4.75  4.74  6.96  7.32  7.21  4.48  7.06  6.84  6.99  4.72\n",
      "  4.71  7.03  4.8   7.26  4.66  6.97  4.81  6.98  7.23  7.02  7.59  7.11\n",
      "  4.82  4.17  7.07  7.29  7.36  7.08  7.4   8.05  8.06  4.76  0.    4.83\n",
      "  7.15  7.14  7.7   7.45  7.56  4.13  7.42  7.33  7.39  7.31  4.89  4.79\n",
      "  8.02  7.37  7.49  7.74  7.64  8.39  7.48  7.44  7.47  7.52  7.53  7.5\n",
      "  7.51  7.6   7.24  7.3   7.2   7.99  8.18  7.25  7.43  7.55  7.27  7.72\n",
      "  8.2   7.65  7.63  7.73  9.1   7.8   8.27  7.38  7.97  4.94  7.91  7.41\n",
      "  7.86  7.61  4.77  7.82  7.54  8.43  7.46  7.62  7.71  7.83  8.3   8.12\n",
      "  7.94  7.57  7.58  7.98  8.56  7.75  7.78  8.19  8.22  7.79  7.85  7.67\n",
      "  8.07  4.85  8.    8.97  8.84  8.11  7.95  4.98  8.09  7.68  9.07  8.67\n",
      "  7.84  7.66  7.92  7.69  8.32  8.46  7.89  8.04  4.87  8.21  7.96  8.03\n",
      "  8.77  8.13  8.33  7.77  9.02  8.08  9.13  7.88  8.31  7.81  7.76  8.5\n",
      "  8.14  8.83  8.81  8.76  8.23  7.93  8.63  9.38  7.9   8.17  8.34  8.35\n",
      "  8.44  8.15  8.1   8.96  8.26  8.24  9.48  8.36  8.58  8.66  8.28  8.41\n",
      "  8.01  8.49  8.25  8.61  8.64  4.97  8.45  8.47  7.87  8.48  8.29  8.4\n",
      "  8.51  9.42  9.59  4.86  8.16  8.38  8.69  8.53  8.7   8.37  8.98  8.68\n",
      "  8.65  8.6   8.57  9.37  8.59  8.55  9.01  9.19 10.1   9.94  8.42  8.71\n",
      "  8.54  9.34  8.52  9.2   8.82  8.75  8.79  8.78  8.88  8.73  9.03  8.9\n",
      "  8.94  9.85  8.62  8.93  9.31  8.87  8.89  9.63  9.32  4.91  4.93  3.93\n",
      "  3.89  4.95  5.01  4.92  5.05  3.85  4.88  4.99  3.8   3.71  3.73  3.68\n",
      "  3.72  5.02  5.06  5.07  5.09  3.87  3.91  5.14  5.04  5.19  5.1   5.03\n",
      "  5.2   3.86  5.16  5.33  3.78  3.83  5.32  5.36  3.82]\n"
     ]
    }
   ],
   "source": [
    "print(df['width_mm'].unique())"
   ]
  },
  {
   "cell_type": "code",
   "execution_count": 26,
   "id": "9868de1c",
   "metadata": {},
   "outputs": [
    {
     "name": "stdout",
     "output_type": "stream",
     "text": [
      "Number of values in 'width_mm' with width less than or equal to zero: 36\n"
     ]
    }
   ],
   "source": [
    "#count the number of rows with width less than or equal to zero\n",
    "negative_width_count = (df['width_mm'] <= 0).sum()\n",
    "\n",
    "print(\"Number of values in 'width_mm' with width less than or equal to zero:\", negative_width_count)"
   ]
  },
  {
   "cell_type": "code",
   "execution_count": 30,
   "id": "cfdf48e0",
   "metadata": {},
   "outputs": [
    {
     "name": "stdout",
     "output_type": "stream",
     "text": [
      "Number of values in 'length_mm' with length less than or equal to zero: 48\n"
     ]
    }
   ],
   "source": [
    "#count the number of rows with width less than or equal to zero\n",
    "negative_length_count = (df['length_mm'] <= 0).sum()\n",
    "\n",
    "print(\"Number of values in 'length_mm' with length less than or equal to zero:\", negative_length_count)"
   ]
  },
  {
   "cell_type": "code",
   "execution_count": 31,
   "id": "c63728a4",
   "metadata": {},
   "outputs": [
    {
     "name": "stdout",
     "output_type": "stream",
     "text": [
      "Number of values in 'height_mm' with height less than or equal to zero: 132\n"
     ]
    }
   ],
   "source": [
    "#count the number of rows with width less than or equal to zero\n",
    "negative_height_count = (df['height_mm'] <= 0).sum()\n",
    "\n",
    "print(\"Number of values in 'height_mm' with height less than or equal to zero:\", negative_height_count)"
   ]
  },
  {
   "cell_type": "code",
   "execution_count": 33,
   "id": "529a7b52",
   "metadata": {},
   "outputs": [
    {
     "name": "stdout",
     "output_type": "stream",
     "text": [
      "Number of values in 'table' with value less than or equal to zero: 0\n"
     ]
    }
   ],
   "source": [
    "#count the number of rows with width less than or equal to zero\n",
    "negative_table_count = (df['table'] <= 0).sum()\n",
    "\n",
    "print(\"Number of values in 'table' with value less than or equal to zero:\", negative_table_count)"
   ]
  },
  {
   "cell_type": "code",
   "execution_count": 34,
   "id": "650bba4b",
   "metadata": {},
   "outputs": [
    {
     "name": "stdout",
     "output_type": "stream",
     "text": [
      "Number of values in 'depth' with value less than or equal to zero: 0\n"
     ]
    }
   ],
   "source": [
    "#count the number of rows with width less than or equal to zero\n",
    "negative_depth_count = (df['depth'] <= 0).sum()\n",
    "\n",
    "print(\"Number of values in 'depth' with value less than or equal to zero:\", negative_depth_count)"
   ]
  },
  {
   "cell_type": "code",
   "execution_count": 36,
   "id": "4eaa2008",
   "metadata": {},
   "outputs": [
    {
     "name": "stdout",
     "output_type": "stream",
     "text": [
      "Number of values in 'carat' with value less than or equal to zero: 0\n"
     ]
    }
   ],
   "source": [
    "#count the number of rows with width less than or equal to zero\n",
    "negative_carat_count = (df['carat'] <= 0).sum()\n",
    "\n",
    "print(\"Number of values in 'carat' with value less than or equal to zero:\", negative_carat_count)"
   ]
  },
  {
   "cell_type": "code",
   "execution_count": 32,
   "id": "ede8d941",
   "metadata": {},
   "outputs": [
    {
     "name": "stdout",
     "output_type": "stream",
     "text": [
      "[2012 2013 2014 2015 2016 2017 2018 2019 2020 2021 2022 2023]\n"
     ]
    }
   ],
   "source": [
    "#check for unique values in the cost_dollars column\n",
    "print(df['year'].unique())"
   ]
  },
  {
   "cell_type": "code",
   "execution_count": null,
   "id": "c360af1c",
   "metadata": {},
   "outputs": [],
   "source": []
  },
  {
   "cell_type": "code",
   "execution_count": null,
   "id": "825091e5",
   "metadata": {},
   "outputs": [],
   "source": []
  },
  {
   "cell_type": "code",
   "execution_count": null,
   "id": "f7de1e92",
   "metadata": {},
   "outputs": [],
   "source": []
  },
  {
   "cell_type": "code",
   "execution_count": null,
   "id": "63e4f2b2",
   "metadata": {},
   "outputs": [],
   "source": []
  },
  {
   "cell_type": "code",
   "execution_count": 13,
   "id": "b0938ac2",
   "metadata": {},
   "outputs": [
    {
     "name": "stdout",
     "output_type": "stream",
     "text": [
      "[ 326  327  334 ... -238 -761 -806]\n"
     ]
    }
   ],
   "source": [
    "#check for unique values in the cost_dollars column\n",
    "print(df['cost_dollars'].unique())"
   ]
  },
  {
   "cell_type": "code",
   "execution_count": 22,
   "id": "9e3b5bea",
   "metadata": {},
   "outputs": [
    {
     "name": "stdout",
     "output_type": "stream",
     "text": [
      "Number of negative values in 'cost_dollars': 2037\n"
     ]
    }
   ],
   "source": [
    "#count the number of rows with negative prices\n",
    "negative_values_count = (df['cost_dollars'] < 0).sum()\n",
    "\n",
    "print(\"Number of negative values in 'cost_dollars':\", negative_values_count)"
   ]
  },
  {
   "cell_type": "code",
   "execution_count": 11,
   "id": "adf40f3b",
   "metadata": {},
   "outputs": [
    {
     "data": {
      "image/png": "[encoded data removed]",
      "text/plain": [
       "<Figure size 640x480 with 1 Axes>"
      ]
     },
     "metadata": {},
     "output_type": "display_data"
    }
   ],
   "source": [
    "sns.boxplot(x=df['cost_dollars'])\n",
    "plt.show()"
   ]
  },
  {
   "cell_type": "code",
   "execution_count": null,
   "id": "616ecbfa",
   "metadata": {},
   "outputs": [],
   "source": [
    "# Display the count of each cut type\n",
    "cut_counts = df['cut'].value_counts()\n",
    "# Print the result\n",
    "print(\"Count of diamonds for each cut type:\")\n",
    "print(cut_counts)"
   ]
  },
  {
   "cell_type": "code",
   "execution_count": null,
   "id": "6408eeca",
   "metadata": {},
   "outputs": [],
   "source": [
    "# distribution of diamond cuts in our dataset shown as a pie chart \n",
    "print(\"All possible cut categories \",df['cut'].unique())\n",
    "cuts = ['Ideal','Good','Premium','Very Good','Fair']\n",
    "cut_values = []\n",
    "for cut in cuts:\n",
    "    count = df[df['cut']==cut]['cut'].count()\n",
    "    cut_values.append(count)\n",
    "zz=plt.pie(cut_values,labels=cuts)"
   ]
  },
  {
   "cell_type": "code",
   "execution_count": null,
   "id": "12269ff8",
   "metadata": {},
   "outputs": [],
   "source": [
    "# Display the count of each color type\n",
    "color_counts = df['color'].value_counts()\n",
    "# Print the result\n",
    "print(\"Count of diamonds for each color type:\")\n",
    "print(color_counts)"
   ]
  },
  {
   "cell_type": "code",
   "execution_count": null,
   "id": "bdf136a4",
   "metadata": {},
   "outputs": [],
   "source": [
    "# distribution of diamond colors in our dataset shown as a pie chart \n",
    "print(\"All possible color categories \",df['color'].unique())\n",
    "colors = ['D', 'E', 'F', 'G', 'H', 'I', 'J']\n",
    "color_values = []\n",
    "for color in colors:\n",
    "    count = df[df['color']==color]['color'].count()\n",
    "    color_values.append(count)\n",
    "zz=plt.pie(color_values,labels=colors)"
   ]
  },
  {
   "cell_type": "code",
   "execution_count": null,
   "id": "99b88b53",
   "metadata": {},
   "outputs": [],
   "source": [
    "# Display the count of each clarity type\n",
    "clarity_counts = df['clarity'].value_counts()\n",
    "# Print the result\n",
    "print(\"Count of diamonds for each clarity type:\")\n",
    "print(clarity_counts)"
   ]
  },
  {
   "cell_type": "code",
   "execution_count": null,
   "id": "6b304780",
   "metadata": {},
   "outputs": [],
   "source": [
    "# distribution of diamond clarity categories in our dataset shown as a pie chart \n",
    "print(\"All possible clarity categories \",df['clarity'].unique())\n",
    "clarity_categories = ['SI1', 'VS2', 'SI2', 'VS1', 'VVS2', 'VVS1', 'IF', 'I1']\n",
    "clarity_values = []\n",
    "for clarity in clarity_categories:\n",
    "    count = df[df['clarity']==clarity]['clarity'].count()\n",
    "    clarity_values.append(count)\n",
    "zz=plt.pie(clarity_values,labels=clarity_categories)"
   ]
  },
  {
   "cell_type": "code",
   "execution_count": null,
   "id": "0f19b5f4",
   "metadata": {},
   "outputs": [],
   "source": [
    "#how much do diamonds cost on average?\n",
    "#Display the average price for each cut type\n",
    "average_price_by_cut = df.groupby('cut')['cost_dollars'].mean()\n",
    "\n",
    "# Print the result\n",
    "print(\"Average price for each cut type:\")\n",
    "print(average_price_by_cut)"
   ]
  },
  {
   "cell_type": "code",
   "execution_count": null,
   "id": "de368a4e",
   "metadata": {},
   "outputs": [],
   "source": [
    "# Set the style of Seaborn\n",
    "#sns.set(style=\"whitegrid\")\n",
    "\n",
    "# Create a bar plot to visualize the average price for each cut type\n",
    "plt.figure(figsize=(10, 6))\n",
    "sns.barplot(x='cut', y='cost_dollars', data=df, palette=\"viridis\", errorbar=None)\n",
    "plt.title('Average Price for Each Cut Type')\n",
    "plt.xlabel('Cut Type')\n",
    "plt.ylabel('Average Price')\n",
    "plt.show()"
   ]
  },
  {
   "cell_type": "code",
   "execution_count": null,
   "id": "4457b005",
   "metadata": {},
   "outputs": [],
   "source": [
    "# Create a point plot to visualize how the price changes with cut over the years\n",
    "#plt.figure(figsize=(12, 8))\n",
    "sns.pointplot(x='year', y='cost_dollars', hue='cut', data=df, errorbar=None, palette=\"viridis\")\n",
    "plt.title('Price Changes with Cut Over the Years')\n",
    "#plt.xlabel('Year')\n",
    "#plt.ylabel('Price')\n",
    "plt.legend(title='Cut Type')\n",
    "plt.show()"
   ]
  },
  {
   "cell_type": "code",
   "execution_count": null,
   "id": "70527d50",
   "metadata": {},
   "outputs": [],
   "source": [
    "sns.histplot(df['cost_dollars'], bins=10, kde=True)\n",
    "plt.title('Price Distribution')\n",
    "plt.show()\n",
    "sns.kdeplot(data = df, x = \"cost_dollars\", fill = \"blue\")\n",
    "plt.show()"
   ]
  },
  {
   "cell_type": "code",
   "execution_count": null,
   "id": "144fdc64",
   "metadata": {},
   "outputs": [],
   "source": [
    "statistics = df['cost_dollars'].describe()\n",
    "variance = statistics['std'] ** 2\n",
    "\n",
    "print(\"Descriptive Statistics for Prices:\")\n",
    "print(statistics)\n",
    "print(\"\\nVariance of Prices:\", variance)"
   ]
  },
  {
   "cell_type": "code",
   "execution_count": null,
   "id": "a4dc032a",
   "metadata": {},
   "outputs": [],
   "source": [
    "# distribution of carats in our dataset shown as a histogram\n",
    "sns.histplot(df['carat'], bins=10, kde=True)\n",
    "plt.title('Carat Distribution')\n",
    "plt.show()\n",
    "sns.kdeplot(data = df, x = \"carat\", fill = \"blue\")\n",
    "plt.show()"
   ]
  },
  {
   "cell_type": "code",
   "execution_count": null,
   "id": "b1c75bc1",
   "metadata": {},
   "outputs": [],
   "source": [
    "#plt.figure(figsize=(8, 6))\n",
    "#sns.histplot(df['cost_dollars'], bins=10, kde=True, color='lightgreen')\n",
    "#plt.title('Histogram of Prices')\n",
    "#plt.xlabel('Price')\n",
    "#plt.ylabel('Frequency')\n",
    "#plt.show()"
   ]
  },
  {
   "cell_type": "code",
   "execution_count": null,
   "id": "f391b6ed",
   "metadata": {},
   "outputs": [],
   "source": [
    "plt.figure(figsize=(12, 8))\n",
    "sns.scatterplot(x='carat', y='cost_dollars', data=df)\n",
    "plt.title('Relationship between carat and price')\n",
    "plt.show()"
   ]
  },
  {
   "cell_type": "code",
   "execution_count": null,
   "id": "c0c04101",
   "metadata": {},
   "outputs": [],
   "source": [
    "plt.figure(figsize=(12, 8))\n",
    "sns.scatterplot(x='cut', y='cost_dollars', data=df)\n",
    "plt.title('Relationship between cut and price')\n",
    "plt.show()"
   ]
  },
  {
   "cell_type": "code",
   "execution_count": null,
   "id": "2dff4ada",
   "metadata": {},
   "outputs": [],
   "source": [
    "sns.scatterplot(x='clarity', y='cost_dollars', data=df)\n",
    "plt.title('Relationship between clarity and price')\n",
    "plt.show()"
   ]
  },
  {
   "cell_type": "code",
   "execution_count": null,
   "id": "9d7297a0",
   "metadata": {},
   "outputs": [],
   "source": [
    "sns.barplot(x='year', y='cost_dollars', data=df)\n",
    "plt.title('Relationship between year and price')\n",
    "plt.show()"
   ]
  },
  {
   "cell_type": "code",
   "execution_count": null,
   "id": "5251a6a6",
   "metadata": {},
   "outputs": [],
   "source": [
    "# Create a scatter plot or line plot to visualize how the price changes with depth\n",
    "plt.figure(figsize=(10, 6))\n",
    "sns.lineplot(x='depth', y='cost_dollars', data=df, marker='o', color='blue')\n",
    "plt.title('Price Changes with Depth')\n",
    "plt.xlabel('Depth')\n",
    "plt.ylabel('Price')\n",
    "plt.show()"
   ]
  },
  {
   "cell_type": "code",
   "execution_count": null,
   "id": "61c81645",
   "metadata": {},
   "outputs": [],
   "source": [
    "correlation_matrix = df.corr(numeric_only=True)\n",
    "sns.heatmap(correlation_matrix, annot=True, cmap='coolwarm')\n",
    "plt.title('Correlation Matrix')\n",
    "plt.show()"
   ]
  },
  {
   "cell_type": "code",
   "execution_count": null,
   "id": "b17dafd8",
   "metadata": {},
   "outputs": [],
   "source": []
  },
  {
   "cell_type": "code",
   "execution_count": null,
   "id": "d8c837b4",
   "metadata": {},
   "outputs": [],
   "source": []
  },
  {
   "cell_type": "code",
   "execution_count": null,
   "id": "77f3f068",
   "metadata": {},
   "outputs": [],
   "source": []
  },
  {
   "cell_type": "code",
   "execution_count": null,
   "id": "e1b52adc",
   "metadata": {},
   "outputs": [],
   "source": []
  }
 ],
 "metadata": {
  "kernelspec": {
   "display_name": "Python 3 (ipykernel)",
   "language": "python",
   "name": "python3"
  },
  "language_info": {
   "codemirror_mode": {
    "name": "ipython",
    "version": 3
   },
   "file_extension": ".py",
   "mimetype": "text/x-python",
   "name": "python",
   "nbconvert_exporter": "python",
   "pygments_lexer": "ipython3",
   "version": "3.10.11"
  }
 },
 "nbformat": 4,
 "nbformat_minor": 5
}
